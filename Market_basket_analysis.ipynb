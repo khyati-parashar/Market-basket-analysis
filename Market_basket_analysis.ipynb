{
 "cells": [
  {
   "cell_type": "markdown",
   "metadata": {},
   "source": [
    "# My approach to the problem statement."
   ]
  },
  {
   "cell_type": "markdown",
   "metadata": {},
   "source": [
    "### - Overview of the form and the attributes I used in the form for the survey"
   ]
  },
  {
   "cell_type": "markdown",
   "metadata": {},
   "source": [
    "With the help of the form I collect the following details of the respondent:\n",
    "\n",
    "- NAME: Records the name of the respondent.\n",
    "- AGE: Records the age of the respondent.\n",
    "- Gender: Records the sex of the respondent.\n",
    "- State: Records the residing state of the respondent.\n",
    "\n",
    "Then the respondent was given 6 main categories, in each of these they were to choose an item that they wish to buy.\n",
    "The categories were as follows:\n",
    "- Milk / Non-Dairy milk\n",
    "- Pasta, Noodles, Breakfast and Snack \n",
    "- Sauces / Masala /Paste\n",
    "- Oil/ Fats\n",
    "- Frozen Food \n",
    "- Personal Care\n"
   ]
  },
  {
   "cell_type": "code",
   "execution_count": 1,
   "metadata": {},
   "outputs": [],
   "source": [
    "# Doing the necessary imports\n",
    "\n",
    "import pandas as pd\n",
    "import numpy as np\n",
    "import matplotlib.pyplot as plt\n",
    "import seaborn as sns\n",
    "from apyori import apriori  "
   ]
  },
  {
   "cell_type": "code",
   "execution_count": 2,
   "metadata": {},
   "outputs": [],
   "source": [
    "# Reading the Excel file\n",
    "customer_data = pd.read_excel('Market Basket Analysis (Responses).xlsx')"
   ]
  },
  {
   "cell_type": "code",
   "execution_count": 3,
   "metadata": {},
   "outputs": [
    {
     "data": {
      "text/html": [
       "<div>\n",
       "<style scoped>\n",
       "    .dataframe tbody tr th:only-of-type {\n",
       "        vertical-align: middle;\n",
       "    }\n",
       "\n",
       "    .dataframe tbody tr th {\n",
       "        vertical-align: top;\n",
       "    }\n",
       "\n",
       "    .dataframe thead th {\n",
       "        text-align: right;\n",
       "    }\n",
       "</style>\n",
       "<table border=\"1\" class=\"dataframe\">\n",
       "  <thead>\n",
       "    <tr style=\"text-align: right;\">\n",
       "      <th></th>\n",
       "      <th>Timestamp</th>\n",
       "      <th>Customer_ID</th>\n",
       "      <th>Name</th>\n",
       "      <th>Age</th>\n",
       "      <th>Gender</th>\n",
       "      <th>State</th>\n",
       "      <th>Milk / Non-Dairy milk</th>\n",
       "      <th>Pasta, Noodles, Breakfast and Snack</th>\n",
       "      <th>Sauces / Masala /Paste</th>\n",
       "      <th>Oil/ Fats</th>\n",
       "      <th>Frozen Food</th>\n",
       "      <th>Personal Care</th>\n",
       "    </tr>\n",
       "  </thead>\n",
       "  <tbody>\n",
       "    <tr>\n",
       "      <th>0</th>\n",
       "      <td>2021-07-22 16:24:42.839</td>\n",
       "      <td>1000</td>\n",
       "      <td>Abhaya Sharma</td>\n",
       "      <td>21</td>\n",
       "      <td>Female</td>\n",
       "      <td>Delhi</td>\n",
       "      <td>cheese</td>\n",
       "      <td>Pasta</td>\n",
       "      <td>Mayonnaise</td>\n",
       "      <td>Cold pressed mustard oil</td>\n",
       "      <td>Frozen peas</td>\n",
       "      <td>Sanitary napkins</td>\n",
       "    </tr>\n",
       "    <tr>\n",
       "      <th>1</th>\n",
       "      <td>2021-07-22 16:32:31.791</td>\n",
       "      <td>1001</td>\n",
       "      <td>Anil kumar</td>\n",
       "      <td>53</td>\n",
       "      <td>Male</td>\n",
       "      <td>Delhi</td>\n",
       "      <td>paneer</td>\n",
       "      <td>Soya chunks</td>\n",
       "      <td>Tomato ketchup</td>\n",
       "      <td>Ghee</td>\n",
       "      <td>Frozen peas</td>\n",
       "      <td>Hairbrush</td>\n",
       "    </tr>\n",
       "    <tr>\n",
       "      <th>2</th>\n",
       "      <td>2021-07-22 16:36:40.971</td>\n",
       "      <td>1002</td>\n",
       "      <td>Prachi Verma</td>\n",
       "      <td>20</td>\n",
       "      <td>Female</td>\n",
       "      <td>Delhi</td>\n",
       "      <td>Organic cow milk</td>\n",
       "      <td>Soya chunks</td>\n",
       "      <td>Nutella</td>\n",
       "      <td>Butter</td>\n",
       "      <td>Frozen corn</td>\n",
       "      <td>Shower gel</td>\n",
       "    </tr>\n",
       "    <tr>\n",
       "      <th>3</th>\n",
       "      <td>2021-07-22 16:36:44.259</td>\n",
       "      <td>1003</td>\n",
       "      <td>Samridhi Parashar</td>\n",
       "      <td>15</td>\n",
       "      <td>Female</td>\n",
       "      <td>Delhi</td>\n",
       "      <td>Organic cow milk</td>\n",
       "      <td>Pasta</td>\n",
       "      <td>Pasta sauce</td>\n",
       "      <td>Butter</td>\n",
       "      <td>Frozen corn</td>\n",
       "      <td>Hair band</td>\n",
       "    </tr>\n",
       "    <tr>\n",
       "      <th>4</th>\n",
       "      <td>2021-07-22 16:37:41.934</td>\n",
       "      <td>1004</td>\n",
       "      <td>Saksham</td>\n",
       "      <td>13</td>\n",
       "      <td>Male</td>\n",
       "      <td>Delhi</td>\n",
       "      <td>Almond milk</td>\n",
       "      <td>Pasta</td>\n",
       "      <td>Mayonnaise</td>\n",
       "      <td>Ghee</td>\n",
       "      <td>Frozen corn</td>\n",
       "      <td>Razor</td>\n",
       "    </tr>\n",
       "    <tr>\n",
       "      <th>...</th>\n",
       "      <td>...</td>\n",
       "      <td>...</td>\n",
       "      <td>...</td>\n",
       "      <td>...</td>\n",
       "      <td>...</td>\n",
       "      <td>...</td>\n",
       "      <td>...</td>\n",
       "      <td>...</td>\n",
       "      <td>...</td>\n",
       "      <td>...</td>\n",
       "      <td>...</td>\n",
       "      <td>...</td>\n",
       "    </tr>\n",
       "    <tr>\n",
       "      <th>202</th>\n",
       "      <td>2021-07-26 12:11:36.296</td>\n",
       "      <td>1202</td>\n",
       "      <td>Akshay Singh</td>\n",
       "      <td>23</td>\n",
       "      <td>Male</td>\n",
       "      <td>Punjab</td>\n",
       "      <td>Organic cow milk</td>\n",
       "      <td>Noodles</td>\n",
       "      <td>Tomato ketchup</td>\n",
       "      <td>Cold pressed Peanut oil</td>\n",
       "      <td>Mixed vegetables</td>\n",
       "      <td>Wet wipe</td>\n",
       "    </tr>\n",
       "    <tr>\n",
       "      <th>203</th>\n",
       "      <td>2021-07-26 12:13:35.058</td>\n",
       "      <td>1203</td>\n",
       "      <td>Ranveer Parashar</td>\n",
       "      <td>19</td>\n",
       "      <td>Male</td>\n",
       "      <td>Haryana</td>\n",
       "      <td>Organic cow milk</td>\n",
       "      <td>Pasta</td>\n",
       "      <td>Thai green curry paste</td>\n",
       "      <td>Ghee</td>\n",
       "      <td>Frozen peas</td>\n",
       "      <td>Mouthwash</td>\n",
       "    </tr>\n",
       "    <tr>\n",
       "      <th>204</th>\n",
       "      <td>2021-07-26 12:37:57.141</td>\n",
       "      <td>1204</td>\n",
       "      <td>Anil Sharma</td>\n",
       "      <td>32</td>\n",
       "      <td>Male</td>\n",
       "      <td>Delhi</td>\n",
       "      <td>Organic cow milk</td>\n",
       "      <td>Quinoa</td>\n",
       "      <td>Soy sauce</td>\n",
       "      <td>Cold pressed mustard oil</td>\n",
       "      <td>Frozen peas</td>\n",
       "      <td>Perfume</td>\n",
       "    </tr>\n",
       "    <tr>\n",
       "      <th>205</th>\n",
       "      <td>2021-07-26 12:39:35.680</td>\n",
       "      <td>1205</td>\n",
       "      <td>Abhinav Sharma</td>\n",
       "      <td>23</td>\n",
       "      <td>Male</td>\n",
       "      <td>UP</td>\n",
       "      <td>Organic cow milk</td>\n",
       "      <td>Pasta</td>\n",
       "      <td>Mayonnaise</td>\n",
       "      <td>Ghee</td>\n",
       "      <td>Frozen peas</td>\n",
       "      <td>Perfume</td>\n",
       "    </tr>\n",
       "    <tr>\n",
       "      <th>206</th>\n",
       "      <td>2021-07-26 12:41:35.327</td>\n",
       "      <td>1206</td>\n",
       "      <td>Raghav Srivastava</td>\n",
       "      <td>18</td>\n",
       "      <td>Male</td>\n",
       "      <td>Haryana</td>\n",
       "      <td>Organic cow milk</td>\n",
       "      <td>Noodles</td>\n",
       "      <td>Pasta sauce</td>\n",
       "      <td>Ghee</td>\n",
       "      <td>Frozen kebab</td>\n",
       "      <td>Sunscreen</td>\n",
       "    </tr>\n",
       "  </tbody>\n",
       "</table>\n",
       "<p>207 rows × 12 columns</p>\n",
       "</div>"
      ],
      "text/plain": [
       "                  Timestamp  Customer_ID               Name Age  Gender  \\\n",
       "0   2021-07-22 16:24:42.839         1000      Abhaya Sharma  21  Female   \n",
       "1   2021-07-22 16:32:31.791         1001         Anil kumar  53    Male   \n",
       "2   2021-07-22 16:36:40.971         1002       Prachi Verma  20  Female   \n",
       "3   2021-07-22 16:36:44.259         1003  Samridhi Parashar  15  Female   \n",
       "4   2021-07-22 16:37:41.934         1004           Saksham   13    Male   \n",
       "..                      ...          ...                ...  ..     ...   \n",
       "202 2021-07-26 12:11:36.296         1202       Akshay Singh  23    Male   \n",
       "203 2021-07-26 12:13:35.058         1203   Ranveer Parashar  19    Male   \n",
       "204 2021-07-26 12:37:57.141         1204        Anil Sharma  32    Male   \n",
       "205 2021-07-26 12:39:35.680         1205     Abhinav Sharma  23    Male   \n",
       "206 2021-07-26 12:41:35.327         1206  Raghav Srivastava  18    Male   \n",
       "\n",
       "       State Milk / Non-Dairy milk Pasta, Noodles, Breakfast and Snack   \\\n",
       "0      Delhi                cheese                                Pasta   \n",
       "1      Delhi                paneer                          Soya chunks   \n",
       "2      Delhi      Organic cow milk                          Soya chunks   \n",
       "3      Delhi      Organic cow milk                                Pasta   \n",
       "4     Delhi            Almond milk                                Pasta   \n",
       "..       ...                   ...                                  ...   \n",
       "202   Punjab      Organic cow milk                              Noodles   \n",
       "203  Haryana      Organic cow milk                                Pasta   \n",
       "204    Delhi      Organic cow milk                               Quinoa   \n",
       "205       UP      Organic cow milk                                Pasta   \n",
       "206  Haryana      Organic cow milk                              Noodles   \n",
       "\n",
       "     Sauces / Masala /Paste                 Oil/ Fats      Frozen Food   \\\n",
       "0                Mayonnaise  Cold pressed mustard oil       Frozen peas   \n",
       "1            Tomato ketchup                      Ghee       Frozen peas   \n",
       "2                   Nutella                    Butter       Frozen corn   \n",
       "3               Pasta sauce                    Butter       Frozen corn   \n",
       "4                Mayonnaise                      Ghee       Frozen corn   \n",
       "..                      ...                       ...               ...   \n",
       "202          Tomato ketchup   Cold pressed Peanut oil  Mixed vegetables   \n",
       "203  Thai green curry paste                      Ghee       Frozen peas   \n",
       "204               Soy sauce  Cold pressed mustard oil       Frozen peas   \n",
       "205              Mayonnaise                      Ghee       Frozen peas   \n",
       "206             Pasta sauce                      Ghee      Frozen kebab   \n",
       "\n",
       "        Personal Care  \n",
       "0    Sanitary napkins  \n",
       "1           Hairbrush  \n",
       "2          Shower gel  \n",
       "3           Hair band  \n",
       "4               Razor  \n",
       "..                ...  \n",
       "202          Wet wipe  \n",
       "203         Mouthwash  \n",
       "204           Perfume  \n",
       "205           Perfume  \n",
       "206         Sunscreen  \n",
       "\n",
       "[207 rows x 12 columns]"
      ]
     },
     "execution_count": 3,
     "metadata": {},
     "output_type": "execute_result"
    }
   ],
   "source": [
    "# checking the structure of the read excel file\n",
    "customer_data"
   ]
  },
  {
   "cell_type": "code",
   "execution_count": 4,
   "metadata": {},
   "outputs": [],
   "source": [
    "# droping the unnecessary column i.e Timestamp here\n",
    "customer_data.drop(labels='Timestamp', axis=1, inplace=True)"
   ]
  },
  {
   "cell_type": "code",
   "execution_count": 5,
   "metadata": {},
   "outputs": [
    {
     "data": {
      "text/html": [
       "<div>\n",
       "<style scoped>\n",
       "    .dataframe tbody tr th:only-of-type {\n",
       "        vertical-align: middle;\n",
       "    }\n",
       "\n",
       "    .dataframe tbody tr th {\n",
       "        vertical-align: top;\n",
       "    }\n",
       "\n",
       "    .dataframe thead th {\n",
       "        text-align: right;\n",
       "    }\n",
       "</style>\n",
       "<table border=\"1\" class=\"dataframe\">\n",
       "  <thead>\n",
       "    <tr style=\"text-align: right;\">\n",
       "      <th></th>\n",
       "      <th>Customer_ID</th>\n",
       "      <th>Name</th>\n",
       "      <th>Age</th>\n",
       "      <th>Gender</th>\n",
       "      <th>State</th>\n",
       "      <th>Milk / Non-Dairy milk</th>\n",
       "      <th>Pasta, Noodles, Breakfast and Snack</th>\n",
       "      <th>Sauces / Masala /Paste</th>\n",
       "      <th>Oil/ Fats</th>\n",
       "      <th>Frozen Food</th>\n",
       "      <th>Personal Care</th>\n",
       "    </tr>\n",
       "  </thead>\n",
       "  <tbody>\n",
       "    <tr>\n",
       "      <th>0</th>\n",
       "      <td>1000</td>\n",
       "      <td>Abhaya Sharma</td>\n",
       "      <td>21</td>\n",
       "      <td>Female</td>\n",
       "      <td>Delhi</td>\n",
       "      <td>cheese</td>\n",
       "      <td>Pasta</td>\n",
       "      <td>Mayonnaise</td>\n",
       "      <td>Cold pressed mustard oil</td>\n",
       "      <td>Frozen peas</td>\n",
       "      <td>Sanitary napkins</td>\n",
       "    </tr>\n",
       "    <tr>\n",
       "      <th>1</th>\n",
       "      <td>1001</td>\n",
       "      <td>Anil kumar</td>\n",
       "      <td>53</td>\n",
       "      <td>Male</td>\n",
       "      <td>Delhi</td>\n",
       "      <td>paneer</td>\n",
       "      <td>Soya chunks</td>\n",
       "      <td>Tomato ketchup</td>\n",
       "      <td>Ghee</td>\n",
       "      <td>Frozen peas</td>\n",
       "      <td>Hairbrush</td>\n",
       "    </tr>\n",
       "    <tr>\n",
       "      <th>2</th>\n",
       "      <td>1002</td>\n",
       "      <td>Prachi Verma</td>\n",
       "      <td>20</td>\n",
       "      <td>Female</td>\n",
       "      <td>Delhi</td>\n",
       "      <td>Organic cow milk</td>\n",
       "      <td>Soya chunks</td>\n",
       "      <td>Nutella</td>\n",
       "      <td>Butter</td>\n",
       "      <td>Frozen corn</td>\n",
       "      <td>Shower gel</td>\n",
       "    </tr>\n",
       "    <tr>\n",
       "      <th>3</th>\n",
       "      <td>1003</td>\n",
       "      <td>Samridhi Parashar</td>\n",
       "      <td>15</td>\n",
       "      <td>Female</td>\n",
       "      <td>Delhi</td>\n",
       "      <td>Organic cow milk</td>\n",
       "      <td>Pasta</td>\n",
       "      <td>Pasta sauce</td>\n",
       "      <td>Butter</td>\n",
       "      <td>Frozen corn</td>\n",
       "      <td>Hair band</td>\n",
       "    </tr>\n",
       "    <tr>\n",
       "      <th>4</th>\n",
       "      <td>1004</td>\n",
       "      <td>Saksham</td>\n",
       "      <td>13</td>\n",
       "      <td>Male</td>\n",
       "      <td>Delhi</td>\n",
       "      <td>Almond milk</td>\n",
       "      <td>Pasta</td>\n",
       "      <td>Mayonnaise</td>\n",
       "      <td>Ghee</td>\n",
       "      <td>Frozen corn</td>\n",
       "      <td>Razor</td>\n",
       "    </tr>\n",
       "  </tbody>\n",
       "</table>\n",
       "</div>"
      ],
      "text/plain": [
       "   Customer_ID               Name Age  Gender   State Milk / Non-Dairy milk  \\\n",
       "0         1000      Abhaya Sharma  21  Female   Delhi                cheese   \n",
       "1         1001         Anil kumar  53    Male   Delhi                paneer   \n",
       "2         1002       Prachi Verma  20  Female   Delhi      Organic cow milk   \n",
       "3         1003  Samridhi Parashar  15  Female   Delhi      Organic cow milk   \n",
       "4         1004           Saksham   13    Male  Delhi            Almond milk   \n",
       "\n",
       "  Pasta, Noodles, Breakfast and Snack  Sauces / Masala /Paste  \\\n",
       "0                                Pasta             Mayonnaise   \n",
       "1                          Soya chunks         Tomato ketchup   \n",
       "2                          Soya chunks                Nutella   \n",
       "3                                Pasta            Pasta sauce   \n",
       "4                                Pasta             Mayonnaise   \n",
       "\n",
       "                  Oil/ Fats Frozen Food      Personal Care  \n",
       "0  Cold pressed mustard oil  Frozen peas  Sanitary napkins  \n",
       "1                      Ghee  Frozen peas         Hairbrush  \n",
       "2                    Butter  Frozen corn        Shower gel  \n",
       "3                    Butter  Frozen corn         Hair band  \n",
       "4                      Ghee  Frozen corn             Razor  "
      ]
     },
     "execution_count": 5,
     "metadata": {},
     "output_type": "execute_result"
    }
   ],
   "source": [
    "# looking onto the structure of the read excel file after droping the Timestamp column\n",
    "customer_data.head()"
   ]
  },
  {
   "cell_type": "code",
   "execution_count": 6,
   "metadata": {},
   "outputs": [
    {
     "data": {
      "text/plain": [
       "(207, 11)"
      ]
     },
     "execution_count": 6,
     "metadata": {},
     "output_type": "execute_result"
    }
   ],
   "source": [
    "# shape of the df (rows, columns)\n",
    "customer_data.shape"
   ]
  },
  {
   "cell_type": "code",
   "execution_count": 7,
   "metadata": {},
   "outputs": [
    {
     "name": "stdout",
     "output_type": "stream",
     "text": [
      "<class 'pandas.core.frame.DataFrame'>\n",
      "RangeIndex: 207 entries, 0 to 206\n",
      "Data columns (total 11 columns):\n",
      " #   Column                                Non-Null Count  Dtype \n",
      "---  ------                                --------------  ----- \n",
      " 0   Customer_ID                           207 non-null    int64 \n",
      " 1   Name                                  207 non-null    object\n",
      " 2   Age                                   207 non-null    object\n",
      " 3   Gender                                207 non-null    object\n",
      " 4   State                                 207 non-null    object\n",
      " 5   Milk / Non-Dairy milk                 207 non-null    object\n",
      " 6   Pasta, Noodles, Breakfast and Snack   207 non-null    object\n",
      " 7   Sauces / Masala /Paste                207 non-null    object\n",
      " 8   Oil/ Fats                             207 non-null    object\n",
      " 9   Frozen Food                           207 non-null    object\n",
      " 10  Personal Care                         207 non-null    object\n",
      "dtypes: int64(1), object(10)\n",
      "memory usage: 17.9+ KB\n"
     ]
    }
   ],
   "source": [
    "# to check the non-null count and the datatypes of each column\n",
    "customer_data.info()"
   ]
  },
  {
   "cell_type": "code",
   "execution_count": 8,
   "metadata": {},
   "outputs": [
    {
     "data": {
      "text/plain": [
       "Customer_ID                             0\n",
       "Name                                    0\n",
       "Age                                     0\n",
       "Gender                                  0\n",
       "State                                   0\n",
       "Milk / Non-Dairy milk                   0\n",
       "Pasta, Noodles, Breakfast and Snack     0\n",
       "Sauces / Masala /Paste                  0\n",
       "Oil/ Fats                               0\n",
       "Frozen Food                             0\n",
       "Personal Care                           0\n",
       "dtype: int64"
      ]
     },
     "execution_count": 8,
     "metadata": {},
     "output_type": "execute_result"
    }
   ],
   "source": [
    "# checking for any null value in any column in the customer_data dataframe\n",
    "customer_data.isnull().sum()\n",
    "\n",
    "# as the columns have no null values(shown below) we need not perform any replacement/droping of those \n",
    "# columns/rows that have null values.\n",
    "\n",
    "# But had been the case were null values were present then insted of deleting the rows that have null values \n",
    "# for any column we would have replaced those null values with the mode of those perticular columns as the dataset\n",
    "# is already small in size deleting those rows would have made it even more smaller"
   ]
  },
  {
   "cell_type": "code",
   "execution_count": 9,
   "metadata": {},
   "outputs": [],
   "source": [
    "# deleting the duplicate rows incase any respondent made more than 1 similar records/entries via form\n",
    "customer_data.drop_duplicates(inplace=True)"
   ]
  },
  {
   "cell_type": "code",
   "execution_count": 10,
   "metadata": {},
   "outputs": [
    {
     "data": {
      "text/plain": [
       "(207, 11)"
      ]
     },
     "execution_count": 10,
     "metadata": {},
     "output_type": "execute_result"
    }
   ],
   "source": [
    "customer_data.shape\n",
    "# as the shape retained no duplicate were present"
   ]
  },
  {
   "cell_type": "code",
   "execution_count": 11,
   "metadata": {},
   "outputs": [
    {
     "data": {
      "text/plain": [
       "Index(['Customer_ID', 'Name', 'Age', 'Gender', 'State',\n",
       "       'Milk / Non-Dairy milk', 'Pasta, Noodles, Breakfast and Snack ',\n",
       "       'Sauces / Masala /Paste', 'Oil/ Fats', 'Frozen Food ', 'Personal Care'],\n",
       "      dtype='object')"
      ]
     },
     "execution_count": 11,
     "metadata": {},
     "output_type": "execute_result"
    }
   ],
   "source": [
    "customer_data.columns"
   ]
  },
  {
   "cell_type": "markdown",
   "metadata": {},
   "source": [
    "#   \n",
    "## Now let's see what's the gender ratio in the survey "
   ]
  },
  {
   "cell_type": "code",
   "execution_count": 12,
   "metadata": {},
   "outputs": [
    {
     "data": {
      "image/png": "[encoded data removed]",
      "text/plain": [
       "<Figure size 720x360 with 1 Axes>"
      ]
     },
     "metadata": {},
     "output_type": "display_data"
    }
   ],
   "source": [
    "def label_function(val):\n",
    "    return f'{val / 100 * len(customer_data):.0f}\\n{val:.0f}%'\n",
    "\n",
    "fig, ax1 = plt.subplots(ncols=1, figsize=(10, 5))\n",
    "\n",
    "customer_data.groupby('Gender').size().plot(kind='pie', autopct=label_function, textprops={'fontsize': 20},\n",
    "                                 colors=['orange', 'teal'])\n",
    "ax1.set_ylabel('Gender', size=22)\n",
    "plt.show()"
   ]
  },
  {
   "cell_type": "markdown",
   "metadata": {},
   "source": [
    "## Let's now look at the statewise participation"
   ]
  },
  {
   "cell_type": "code",
   "execution_count": 13,
   "metadata": {},
   "outputs": [
    {
     "data": {
      "text/plain": [
       "Delhi             107\n",
       "Haryana            19\n",
       "Uttar Pradesh      15\n",
       "Punjab             14\n",
       "Uttar pradesh       7\n",
       "New delhi           6\n",
       "Bihar               6\n",
       "Delhi               6\n",
       "New Delhi           6\n",
       "UP                  5\n",
       "Rajasthan           3\n",
       "DElhi               2\n",
       "HARYANA             1\n",
       "South delhi         1\n",
       "DELHI               1\n",
       "New Delhi           1\n",
       "Kerala              1\n",
       "uttar Pradesh       1\n",
       "Tamil nadu          1\n",
       "Haryana             1\n",
       "new delhi           1\n",
       "Texas               1\n",
       "Maharshtra          1\n",
       "Name: State, dtype: int64"
      ]
     },
     "execution_count": 13,
     "metadata": {},
     "output_type": "execute_result"
    }
   ],
   "source": [
    "customer_data.State.value_counts()\n",
    "# coz of different string formatting we are getting unclear States data "
   ]
  },
  {
   "cell_type": "code",
   "execution_count": 14,
   "metadata": {},
   "outputs": [],
   "source": [
    "# the string format problem could occur in the following columns as they were to be filled by the respondent itself\n",
    "str_col = ['Name', 'State']\n",
    "for col in str_col:\n",
    "    customer_data[col] = customer_data[col].str.title()"
   ]
  },
  {
   "cell_type": "code",
   "execution_count": 15,
   "metadata": {},
   "outputs": [
    {
     "data": {
      "text/plain": [
       "Delhi             110\n",
       "Uttar Pradesh      22\n",
       "Haryana            20\n",
       "Punjab             14\n",
       "New Delhi          13\n",
       "Bihar               6\n",
       "Delhi               6\n",
       "Up                  5\n",
       "Rajasthan           3\n",
       "South Delhi         1\n",
       "New Delhi           1\n",
       "Uttar Pradesh       1\n",
       "Kerala              1\n",
       "Tamil Nadu          1\n",
       "Haryana             1\n",
       "Texas               1\n",
       "Maharshtra          1\n",
       "Name: State, dtype: int64"
      ]
     },
     "execution_count": 15,
     "metadata": {},
     "output_type": "execute_result"
    }
   ],
   "source": [
    "customer_data.State.value_counts()\n",
    "# still many similar states are filled with different names which has to be corrected "
   ]
  },
  {
   "cell_type": "code",
   "execution_count": 16,
   "metadata": {},
   "outputs": [
    {
     "data": {
      "text/plain": [
       "array(['Delhi', 'Delhi ', 'New Delhi', 'Uttar Pradesh', 'Haryana',\n",
       "       'New Delhi ', 'Maharshtra', 'Uttar Pradesh ', 'Punjab', 'Texas',\n",
       "       'Bihar', 'South Delhi', 'Up', 'Haryana ', 'Rajasthan',\n",
       "       'Tamil Nadu', 'Kerala'], dtype=object)"
      ]
     },
     "execution_count": 16,
     "metadata": {},
     "output_type": "execute_result"
    }
   ],
   "source": [
    "customer_data.State.unique()"
   ]
  },
  {
   "cell_type": "code",
   "execution_count": 17,
   "metadata": {},
   "outputs": [],
   "source": [
    "customer_data.State.replace({'Delhi ':\"Delhi\",\n",
    "                             'New Delhi ':\"Delhi\",\n",
    "                             \"New Delhi\":\"Delhi\" ,\n",
    "                             'Uttar Pradesh ':\"Uttar Pradesh\",\n",
    "                             'Haryana ':\"Haryana\",           \n",
    "                             \"Uttar pradesh\":'Uttar Pradesh', \n",
    "                             \"Up\":'Uttar Pradesh',     \n",
    "                             \"South Delhi\":'Delhi' }, inplace=True)         "
   ]
  },
  {
   "cell_type": "code",
   "execution_count": 18,
   "metadata": {},
   "outputs": [
    {
     "data": {
      "text/plain": [
       "<seaborn.axisgrid.FacetGrid at 0x7fb746c1d710>"
      ]
     },
     "execution_count": 18,
     "metadata": {},
     "output_type": "execute_result"
    },
    {
     "data": {
      "image/png": "[encoded data removed]",
      "text/plain": [
       "<Figure size 675x360 with 1 Axes>"
      ]
     },
     "metadata": {
      "needs_background": "light"
     },
     "output_type": "display_data"
    }
   ],
   "source": [
    "sns.catplot(x= 'State', data=customer_data, kind=\"count\",palette=\"hls\", height=5, aspect=15/8)"
   ]
  },
  {
   "cell_type": "markdown",
   "metadata": {},
   "source": [
    "#### From the above graph we could say that the major data contribution for the survey is from\n",
    "- Delhi\n",
    "\n",
    "#### Uttar Pradesh, Haryana, Punjab & Bihar contribute way less than Delhi \n",
    "#### Rest of the sates have barely one single entry.\n",
    "\n",
    "####  \n",
    "####  "
   ]
  },
  {
   "cell_type": "markdown",
   "metadata": {},
   "source": [
    "## Now that the States & Names are correctly string formatted we can now move on to the process of applying \"Apriori Algorithm\""
   ]
  },
  {
   "cell_type": "code",
   "execution_count": 19,
   "metadata": {},
   "outputs": [],
   "source": [
    "# we are adding a new column to the existing dataframe that will have all the items selected by that customer. \n",
    "customer_data['customer_basket'] = customer_data[customer_data.columns[5:]].apply(\n",
    "    lambda x: ','.join(x.astype(str)), axis=1)"
   ]
  },
  {
   "cell_type": "code",
   "execution_count": 20,
   "metadata": {
    "scrolled": true
   },
   "outputs": [
    {
     "data": {
      "text/plain": [
       "'cheese,Pasta,Mayonnaise,Cold pressed mustard oil,Frozen peas,Sanitary napkins'"
      ]
     },
     "execution_count": 20,
     "metadata": {},
     "output_type": "execute_result"
    }
   ],
   "source": [
    "customer_data.customer_basket[0]"
   ]
  },
  {
   "cell_type": "code",
   "execution_count": 21,
   "metadata": {},
   "outputs": [],
   "source": [
    "# now grouping by the Customer_ID to get a list of items each customer has bought\n",
    "customer_basket_data = customer_data.groupby(['Customer_ID'])['customer_basket'].apply(lambda x: list(x))"
   ]
  },
  {
   "cell_type": "code",
   "execution_count": 22,
   "metadata": {},
   "outputs": [
    {
     "data": {
      "text/plain": [
       "Customer_ID\n",
       "1000    [cheese,Pasta,Mayonnaise,Cold pressed mustard ...\n",
       "1001    [paneer,Soya chunks,Tomato ketchup,Ghee,Frozen...\n",
       "1002    [Organic cow milk,Soya chunks,Nutella,Butter,F...\n",
       "1003    [Organic cow milk,Pasta,Pasta sauce,Butter,Fro...\n",
       "1004    [Almond milk,Pasta,Mayonnaise,Ghee,Frozen corn...\n",
       "                              ...                        \n",
       "1202    [Organic cow milk,Noodles,Tomato ketchup,Cold ...\n",
       "1203    [Organic cow milk,Pasta,Thai green curry paste...\n",
       "1204    [Organic cow milk,Quinoa,Soy sauce,Cold presse...\n",
       "1205    [Organic cow milk,Pasta,Mayonnaise,Ghee,Frozen...\n",
       "1206    [Organic cow milk,Noodles,Pasta sauce,Ghee,Fro...\n",
       "Name: customer_basket, Length: 207, dtype: object"
      ]
     },
     "execution_count": 22,
     "metadata": {},
     "output_type": "execute_result"
    }
   ],
   "source": [
    "customer_basket_data"
   ]
  },
  {
   "cell_type": "code",
   "execution_count": 23,
   "metadata": {},
   "outputs": [
    {
     "data": {
      "text/plain": [
       "[['cheese,Pasta,Mayonnaise,Cold pressed mustard oil,Frozen peas,Sanitary napkins'],\n",
       " ['paneer,Soya chunks,Tomato ketchup,Ghee,Frozen peas,Hairbrush'],\n",
       " ['Organic cow milk,Soya chunks,Nutella,Butter,Frozen corn,Shower gel'],\n",
       " ['Organic cow milk,Pasta,Pasta sauce,Butter,Frozen corn,Hair band'],\n",
       " ['Almond milk,Pasta,Mayonnaise,Ghee,Frozen corn,Razor'],\n",
       " ['Organic cow milk,Pasta,Mayonnaise,Butter,Frozen corn,Mouthwash'],\n",
       " ['paneer,Noodles,Soy sauce,Butter,Frozen kebab,Razor'],\n",
       " ['milk cream,Pasta,Mayonnaise,Cold pressed Peanut oil,Frozen corn,Sanitary napkins'],\n",
       " ['Organic cow milk,Soya chunks,Nutella,Ghee,Frozen corn,Shower gel'],\n",
       " ['cheese,Pasta,Pasta sauce,Butter,Frozen corn,Perfume'],\n",
       " ['soya milk,Quinoa,Thai green curry paste,Cold pressed Peanut oil,Mixed vegetables,Razor'],\n",
       " ['paneer,Soya chunks,Tomato ketchup,Ghee,Mixed vegetables,Perfume'],\n",
       " ['Organic cow milk,Soya chunks,Tomato ketchup,Butter,Frozen corn,Sanitary napkins'],\n",
       " ['cheese,Pasta,Tomato ketchup,Butter,Frozen corn,Sunscreen'],\n",
       " ['Almond milk,Pasta,Pasta sauce,Ghee,Frozen corn,Mouthwash'],\n",
       " ['paneer,Noodles,Tomato ketchup,Butter,Frozen kebab,Mouthwash'],\n",
       " ['cheese,Noodles,Chilli sauce,Ghee,Frozen kebab,Razor'],\n",
       " ['Organic cow milk,Soya chunks,Chilli sauce,Butter,Frozen corn,Hair band'],\n",
       " ['milk cream,Pasta,Pasta sauce,Cold pressed mustard oil,Frozen corn,Hand lotion'],\n",
       " ['milk cream,Pasta,Pasta sauce,Cold pressed mustard oil,Frozen corn,Wet wipe'],\n",
       " ['paneer,Pasta,Mayonnaise,Cold pressed mustard oil,Frozen peas,Razor'],\n",
       " ['milk cream,Noodles,Chilli sauce,Ghee,Frozen peas,Hairbrush'],\n",
       " ['cheese,Pasta,Pasta sauce,Cold pressed Peanut oil,Mixed vegetables,Perfume'],\n",
       " ['Organic cow milk,Soya chunks,Tomato ketchup,Ghee,Frozen kebab,Shower gel'],\n",
       " ['Organic cow milk,Pasta,Pasta sauce,Butter,Mixed vegetables,Sunscreen'],\n",
       " ['paneer,Quinoa,Mayonnaise,Ghee,Frozen kebab,Razor'],\n",
       " ['cheese,Noodles,Mayonnaise,Butter,Frozen corn,Razor'],\n",
       " ['Organic cow milk,Pasta,Mayonnaise,Butter,Frozen peas,Perfume'],\n",
       " ['Organic cow milk,Noodles,Tomato ketchup,Butter,Frozen corn,Mouthwash'],\n",
       " ['paneer,Noodles,Nutella,Ghee,Frozen peas,Shower gel'],\n",
       " ['paneer,Pasta,Nutella,Butter,Mixed vegetables,Razor'],\n",
       " ['Almond milk,Soya chunks,Nutella,Ghee,Frozen corn,Sanitary napkins'],\n",
       " ['Organic cow milk,Noodles,Soy sauce,Butter,Frozen kebab,Wet wipe'],\n",
       " ['Organic cow milk,Noodles,Tomato ketchup,Ghee,Frozen peas,Sanitary napkins'],\n",
       " ['Organic cow milk,Soya chunks,Tomato paste,Butter,Frozen peas,Hair band'],\n",
       " ['paneer,Pasta,Tomato ketchup,Ghee,Frozen kebab,Mouthwash'],\n",
       " ['milk cream,Pasta,Nutella,Butter,Frozen peas,Razor'],\n",
       " ['Organic cow milk,Noodles,Chilli sauce,Ghee,Frozen kebab,Hair band'],\n",
       " ['paneer,Soya chunks,Tomato paste,Ghee,Mixed vegetables,Hand lotion'],\n",
       " ['cheese,Noodles,Tomato ketchup,Butter,Frozen peas,Shower gel'],\n",
       " ['Organic cow milk,Noodles,Nutella,Ghee,Frozen peas,Shower gel'],\n",
       " ['soya milk,Soya chunks,Mayonnaise,Cold pressed mustard oil,Frozen corn,Sunscreen'],\n",
       " ['soya milk,Pasta,Pasta sauce,Butter,Mixed vegetables,Razor'],\n",
       " ['paneer,Pasta,Pasta sauce,Butter,Frozen kebab,Wet wipe'],\n",
       " ['soya milk,Noodles,Mayonnaise,Cold pressed mustard oil,Frozen peas,Shower gel'],\n",
       " ['Organic cow milk,Noodles,Tomato ketchup,Ghee,Frozen peas,Sanitary napkins'],\n",
       " ['paneer,Pasta,Chilli sauce,Ghee,Mixed vegetables,Perfume'],\n",
       " ['cheese,Soya chunks,Tomato ketchup,Ghee,Mixed vegetables,Mouthwash'],\n",
       " ['paneer,Noodles,Nutella,Ghee,Frozen peas,Perfume'],\n",
       " ['cheese,Pasta,Tomato ketchup,Butter,Frozen corn,Sanitary napkins'],\n",
       " ['Organic cow milk,Soya chunks,Tomato ketchup,Ghee,Frozen peas,Razor'],\n",
       " ['paneer,Soya chunks,Tomato ketchup,Cold pressed mustard oil,Frozen corn,Razor'],\n",
       " ['Almond milk,Pasta,Nutella,Ghee,Frozen kebab,Hair band'],\n",
       " ['Organic cow milk,Noodles,Tomato ketchup,Ghee,Frozen corn,Razor'],\n",
       " ['soya milk,Noodles,Tomato ketchup,Butter,Frozen peas,Razor'],\n",
       " ['cheese,Soya chunks,Nutella,Cold pressed mustard oil,Mixed vegetables,Mouthwash'],\n",
       " ['soya milk,Soya chunks,Nutella,Ghee,Mixed vegetables,Perfume'],\n",
       " ['paneer,Soya chunks,Mayonnaise,Cold pressed mustard oil,Frozen peas,Sanitary napkins'],\n",
       " ['cheese,Pasta,Mayonnaise,Cold pressed Peanut oil,Frozen peas,Perfume'],\n",
       " ['milk cream,Quinoa,Nutella,Ghee,Frozen peas,Sanitary napkins'],\n",
       " ['cheese,Pasta,Soy sauce,Ghee,Frozen peas,Sunscreen'],\n",
       " ['soya milk,Pasta,Nutella,Ghee,Frozen peas,Hand lotion'],\n",
       " ['Almond milk,Noodles,Tomato ketchup,Cold pressed Peanut oil,Frozen kebab,Razor'],\n",
       " ['Organic cow milk,Noodles,Tomato ketchup,Cold pressed mustard oil,Mixed vegetables,Hairbrush'],\n",
       " ['paneer,Soya chunks,Tomato paste,Butter,Mixed vegetables,Perfume'],\n",
       " ['milk cream,Soya chunks,Tomato paste,Butter,Mixed vegetables,Shower gel'],\n",
       " ['paneer,Pasta,Tomato ketchup,Ghee,Frozen peas,Hairbrush'],\n",
       " ['paneer,Noodles,Tomato paste,Cold pressed Peanut oil,Frozen corn,Sanitary napkins'],\n",
       " ['Organic cow milk,Soya chunks,Tomato ketchup,Butter,Frozen corn,Razor'],\n",
       " ['paneer,Soya chunks,Tomato paste,Cold pressed mustard oil,Frozen kebab,Sanitary napkins'],\n",
       " ['Organic cow milk,Pasta,Pasta sauce,Ghee,Frozen kebab,Hand lotion'],\n",
       " ['paneer,Pasta,Tomato ketchup,Butter,Mixed vegetables,Sunscreen'],\n",
       " ['soya milk,Soya chunks,Thai green curry paste,Butter,Frozen kebab,Sanitary napkins'],\n",
       " ['Organic cow milk,Soya chunks,Chilli sauce,Ghee,Mixed vegetables,Sunscreen'],\n",
       " ['paneer,Quinoa,Nutella,Ghee,Frozen kebab,Razor'],\n",
       " ['Almond milk,Quinoa,Thai green curry paste,Butter,Frozen corn,Sunscreen'],\n",
       " ['Organic cow milk,Noodles,Thai green curry paste,Cold pressed mustard oil,Frozen corn,Razor'],\n",
       " ['paneer,Soya chunks,Tomato ketchup,Ghee,Frozen peas,Hairbrush'],\n",
       " ['Organic cow milk,Pasta,Pasta sauce,Butter,Mixed vegetables,Shower gel'],\n",
       " ['Almond milk,Quinoa,Thai green curry paste,Butter,Mixed vegetables,Mouthwash'],\n",
       " ['Almond milk,Soya chunks,Tomato ketchup,Cold pressed Peanut oil,Frozen kebab,Mouthwash'],\n",
       " ['milk cream,Soya chunks,Mayonnaise,Cold pressed Peanut oil,Mixed vegetables,Sunscreen'],\n",
       " ['Organic cow milk,Soya chunks,Tomato paste,Cold pressed mustard oil,Frozen kebab,Razor'],\n",
       " ['milk cream,Noodles,Tomato ketchup,Ghee,Mixed vegetables,Sunscreen'],\n",
       " ['Almond milk,Noodles,Soy sauce,Butter,Mixed vegetables,Wet wipe'],\n",
       " ['milk cream,Pasta,Thai green curry paste,Butter,Frozen corn,Shower gel'],\n",
       " ['cheese,Pasta,Mayonnaise,Butter,Frozen kebab,Hair band'],\n",
       " ['milk cream,Noodles,Soy sauce,Cold pressed Peanut oil,Mixed vegetables,Sanitary napkins'],\n",
       " ['Almond milk,Quinoa,Thai green curry paste,Butter,Frozen peas,Mouthwash'],\n",
       " ['Organic cow milk,Soya chunks,Mayonnaise,Ghee,Frozen peas,Hand lotion'],\n",
       " ['cheese,Noodles,Mayonnaise,Butter,Frozen kebab,Perfume'],\n",
       " ['Organic cow milk,Soya chunks,Tomato paste,Ghee,Frozen peas,Razor'],\n",
       " ['Organic cow milk,Quinoa,Tomato ketchup,Ghee,Frozen peas,Hairbrush'],\n",
       " ['paneer,Quinoa,Tomato paste,Ghee,Mixed vegetables,Shower gel'],\n",
       " ['Organic cow milk,Soya chunks,Tomato ketchup,Ghee,Frozen peas,Razor'],\n",
       " ['milk cream,Pasta,Pasta sauce,Butter,Frozen corn,Wet wipe'],\n",
       " ['paneer,Noodles,Tomato paste,Butter,Frozen kebab,Shower gel'],\n",
       " ['Organic cow milk,Pasta,Chilli sauce,Ghee,Frozen corn,Sunscreen'],\n",
       " ['cheese,Noodles,Tomato ketchup,Butter,Frozen kebab,Perfume'],\n",
       " ['Organic cow milk,Soya chunks,Tomato ketchup,Cold pressed mustard oil,Frozen peas,Razor'],\n",
       " ['paneer,Noodles,Tomato ketchup,Butter,Mixed vegetables,Hair band'],\n",
       " ['paneer,Pasta,Mayonnaise,Butter,Frozen kebab,Hand lotion'],\n",
       " ['paneer,Soya chunks,Tomato ketchup,Cold pressed Peanut oil,Frozen peas,Hairbrush'],\n",
       " ['cheese,Pasta,Chilli sauce,Ghee,Frozen kebab,Shower gel'],\n",
       " ['paneer,Soya chunks,Chilli sauce,Butter,Frozen kebab,Shower gel'],\n",
       " ['paneer,Soya chunks,Tomato ketchup,Cold pressed mustard oil,Frozen peas,Mouthwash'],\n",
       " ['soya milk,Quinoa,Mayonnaise,Butter,Frozen kebab,Sunscreen'],\n",
       " ['soya milk,Pasta,Tomato paste,Ghee,Frozen corn,Hand lotion'],\n",
       " ['cheese,Pasta,Pasta sauce,Butter,Frozen corn,Perfume'],\n",
       " ['soya milk,Quinoa,Nutella,Cold pressed Peanut oil,Frozen kebab,Sanitary napkins'],\n",
       " ['paneer,Soya chunks,Nutella,Cold pressed mustard oil,Frozen kebab,Shower gel'],\n",
       " ['Organic cow milk,Soya chunks,Tomato ketchup,Cold pressed Peanut oil,Frozen peas,Razor'],\n",
       " ['cheese,Soya chunks,Chilli sauce,Cold pressed mustard oil,Frozen peas,Hairbrush'],\n",
       " ['paneer,Quinoa,Tomato ketchup,Cold pressed mustard oil,Frozen peas,Hairbrush'],\n",
       " ['Organic cow milk,Soya chunks,Tomato ketchup,Cold pressed Peanut oil,Frozen kebab,Mouthwash'],\n",
       " ['soya milk,Quinoa,Thai green curry paste,Butter,Mixed vegetables,Shower gel'],\n",
       " ['cheese,Pasta,Pasta sauce,Butter,Frozen corn,Hairbrush'],\n",
       " ['soya milk,Quinoa,Thai green curry paste,Butter,Frozen corn,Shower gel'],\n",
       " ['cheese,Quinoa,Thai green curry paste,Cold pressed mustard oil,Mixed vegetables,Sanitary napkins'],\n",
       " ['cheese,Noodles,Pasta sauce,Butter,Mixed vegetables,Sunscreen'],\n",
       " ['paneer,Pasta,Tomato paste,Ghee,Mixed vegetables,Hand lotion'],\n",
       " ['soya milk,Quinoa,Nutella,Ghee,Frozen kebab,Hand lotion'],\n",
       " ['milk cream,Noodles,Mayonnaise,Butter,Frozen kebab,Perfume'],\n",
       " ['Almond milk,Quinoa,Nutella,Butter,Frozen peas,Shower gel'],\n",
       " ['Organic cow milk,Quinoa,Soy sauce,Cold pressed Peanut oil,Mixed vegetables,Sanitary napkins'],\n",
       " ['Organic cow milk,Quinoa,Nutella,Cold pressed Peanut oil,Frozen kebab,Perfume'],\n",
       " ['Organic cow milk,Soya chunks,Soy sauce,Cold pressed mustard oil,Frozen peas,Perfume'],\n",
       " ['soya milk,Quinoa,Nutella,Ghee,Frozen kebab,Shower gel'],\n",
       " ['cheese,Quinoa,Mayonnaise,Ghee,Frozen kebab,Mouthwash'],\n",
       " ['paneer,Quinoa,Chilli sauce,Ghee,Frozen kebab,Hand lotion'],\n",
       " ['paneer,Soya chunks,Nutella,Ghee,Frozen peas,Wet wipe'],\n",
       " ['soya milk,Quinoa,Tomato paste,Cold pressed mustard oil,Frozen peas,Mouthwash'],\n",
       " ['Almond milk,Quinoa,Nutella,Butter,Frozen kebab,Shower gel'],\n",
       " ['paneer,Quinoa,Tomato paste,Ghee,Mixed vegetables,Hair band'],\n",
       " ['Organic cow milk,Soya chunks,Mayonnaise,Butter,Frozen peas,Sunscreen'],\n",
       " ['paneer,Soya chunks,Tomato ketchup,Cold pressed mustard oil,Frozen peas,Razor'],\n",
       " ['cheese,Quinoa,Tomato ketchup,Butter,Frozen corn,Shower gel'],\n",
       " ['milk cream,Pasta,Pasta sauce,Butter,Frozen corn,Perfume'],\n",
       " ['soya milk,Pasta,Mayonnaise,Butter,Frozen corn,Sanitary napkins'],\n",
       " ['milk cream,Quinoa,Nutella,Ghee,Frozen kebab,Shower gel'],\n",
       " ['paneer,Soya chunks,Nutella,Ghee,Frozen peas,Razor'],\n",
       " ['cheese,Noodles,Nutella,Butter,Frozen kebab,Sanitary napkins'],\n",
       " ['paneer,Soya chunks,Chilli sauce,Butter,Frozen corn,Perfume'],\n",
       " ['Organic cow milk,Soya chunks,Tomato ketchup,Cold pressed Peanut oil,Frozen peas,Razor'],\n",
       " ['cheese,Pasta,Nutella,Butter,Frozen kebab,Razor'],\n",
       " ['Organic cow milk,Soya chunks,Soy sauce,Cold pressed mustard oil,Frozen corn,Hand lotion'],\n",
       " ['Organic cow milk,Soya chunks,Tomato ketchup,Ghee,Frozen corn,Shower gel'],\n",
       " ['soya milk,Quinoa,Thai green curry paste,Ghee,Frozen kebab,Razor'],\n",
       " ['Organic cow milk,Quinoa,Soy sauce,Butter,Frozen corn,Mouthwash'],\n",
       " ['soya milk,Quinoa,Nutella,Butter,Frozen kebab,Sunscreen'],\n",
       " ['paneer,Quinoa,Nutella,Ghee,Mixed vegetables,Shower gel'],\n",
       " ['Organic cow milk,Pasta,Tomato ketchup,Cold pressed Peanut oil,Frozen peas,Sanitary napkins'],\n",
       " ['Organic cow milk,Noodles,Pasta sauce,Ghee,Frozen corn,Sanitary napkins'],\n",
       " ['Organic cow milk,Pasta,Mayonnaise,Ghee,Frozen corn,Perfume'],\n",
       " ['Organic cow milk,Soya chunks,Tomato ketchup,Ghee,Frozen peas,Hand lotion'],\n",
       " ['soya milk,Quinoa,Thai green curry paste,Ghee,Frozen kebab,Wet wipe'],\n",
       " ['milk cream,Quinoa,Soy sauce,Ghee,Frozen kebab,Mouthwash'],\n",
       " ['Almond milk,Quinoa,Mayonnaise,Butter,Frozen kebab,Razor'],\n",
       " ['cheese,Soya chunks,Chilli sauce,Butter,Frozen corn,Hair band'],\n",
       " ['paneer,Soya chunks,Tomato ketchup,Butter,Frozen corn,Perfume'],\n",
       " ['soya milk,Quinoa,Nutella,Ghee,Frozen corn,Shower gel'],\n",
       " ['Almond milk,Noodles,Tomato ketchup,Cold pressed Peanut oil,Frozen corn,Wet wipe'],\n",
       " ['Organic cow milk,Pasta,Tomato paste,Cold pressed mustard oil,Mixed vegetables,Mouthwash'],\n",
       " ['soya milk,Soya chunks,Mayonnaise,Ghee,Frozen peas,Perfume'],\n",
       " ['soya milk,Pasta,Soy sauce,Ghee,Frozen corn,Sunscreen'],\n",
       " ['Almond milk,Quinoa,Pasta sauce,Cold pressed mustard oil,Mixed vegetables,Mouthwash'],\n",
       " ['Organic cow milk,Quinoa,Thai green curry paste,Cold pressed Peanut oil,Frozen kebab,Sanitary napkins'],\n",
       " ['paneer,Soya chunks,Nutella,Butter,Frozen kebab,Sunscreen'],\n",
       " ['paneer,Noodles,Tomato ketchup,Butter,Frozen corn,Wet wipe'],\n",
       " ['Organic cow milk,Soya chunks,Pasta sauce,Ghee,Mixed vegetables,Razor'],\n",
       " ['Almond milk,Pasta,Mayonnaise,Ghee,Mixed vegetables,Hand lotion'],\n",
       " ['milk cream,Noodles,Thai green curry paste,Ghee,Frozen kebab,Sanitary napkins'],\n",
       " ['Almond milk,Noodles,Soy sauce,Butter,Frozen corn,Shower gel'],\n",
       " ['cheese,Noodles,Soy sauce,Ghee,Frozen kebab,Wet wipe'],\n",
       " ['cheese,Pasta,Mayonnaise,Butter,Frozen corn,Sunscreen'],\n",
       " ['paneer,Quinoa,Mayonnaise,Butter,Frozen corn,Hairbrush'],\n",
       " ['milk cream,Noodles,Chilli sauce,Cold pressed mustard oil,Frozen kebab,Razor'],\n",
       " ['milk cream,Pasta,Pasta sauce,Butter,Frozen corn,Wet wipe'],\n",
       " ['Almond milk,Noodles,Soy sauce,Butter,Mixed vegetables,Shower gel'],\n",
       " ['Organic cow milk,Pasta,Pasta sauce,Cold pressed mustard oil,Frozen peas,Hair band'],\n",
       " ['cheese,Noodles,Soy sauce,Cold pressed mustard oil,Frozen peas,Razor'],\n",
       " ['paneer,Soya chunks,Tomato ketchup,Ghee,Frozen peas,Sanitary napkins'],\n",
       " ['Organic cow milk,Soya chunks,Tomato ketchup,Cold pressed mustard oil,Frozen corn,Razor'],\n",
       " ['cheese,Pasta,Tomato paste,Butter,Frozen kebab,Shower gel'],\n",
       " ['paneer,Pasta,Mayonnaise,Butter,Frozen kebab,Hand lotion'],\n",
       " ['Almond milk,Quinoa,Thai green curry paste,Butter,Frozen kebab,Shower gel'],\n",
       " ['soya milk,Pasta,Mayonnaise,Butter,Mixed vegetables,Hand lotion'],\n",
       " ['cheese,Pasta,Mayonnaise,Butter,Mixed vegetables,Razor'],\n",
       " ['Organic cow milk,Pasta,Mayonnaise,Butter,Frozen corn,Perfume'],\n",
       " ['Organic cow milk,Quinoa,Tomato paste,Ghee,Mixed vegetables,Razor'],\n",
       " ['cheese,Noodles,Soy sauce,Ghee,Frozen kebab,Hair band'],\n",
       " ['cheese,Noodles,Soy sauce,Ghee,Frozen kebab,Shower gel'],\n",
       " ['Almond milk,Quinoa,Thai green curry paste,Butter,Frozen kebab,Razor'],\n",
       " ['Almond milk,Noodles,Nutella,Ghee,Frozen kebab,Shower gel'],\n",
       " ['Almond milk,Quinoa,Thai green curry paste,Butter,Frozen corn,Wet wipe'],\n",
       " ['milk cream,Noodles,Thai green curry paste,Butter,Mixed vegetables,Shower gel'],\n",
       " ['Almond milk,Pasta,Nutella,Ghee,Frozen kebab,Wet wipe'],\n",
       " ['cheese,Pasta,Pasta sauce,Butter,Frozen corn,Wet wipe'],\n",
       " ['paneer,Soya chunks,Tomato paste,Ghee,Frozen kebab,Hair band'],\n",
       " ['cheese,Noodles,Chilli sauce,Butter,Frozen corn,Shower gel'],\n",
       " ['Almond milk,Quinoa,Thai green curry paste,Butter,Frozen kebab,Shower gel'],\n",
       " ['soya milk,Pasta,Pasta sauce,Ghee,Frozen kebab,Hairbrush'],\n",
       " ['Organic cow milk,Noodles,Tomato ketchup,Cold pressed Peanut oil,Mixed vegetables,Wet wipe'],\n",
       " ['Organic cow milk,Pasta,Thai green curry paste,Ghee,Frozen peas,Mouthwash'],\n",
       " ['Organic cow milk,Quinoa,Soy sauce,Cold pressed mustard oil,Frozen peas,Perfume'],\n",
       " ['Organic cow milk,Pasta,Mayonnaise,Ghee,Frozen peas,Perfume'],\n",
       " ['Organic cow milk,Noodles,Pasta sauce,Ghee,Frozen kebab,Sunscreen']]"
      ]
     },
     "execution_count": 23,
     "metadata": {},
     "output_type": "execute_result"
    }
   ],
   "source": [
    "# now we are creating a list of lists, of all the items that each customer has bought\n",
    "# this list will be fed in the Apriori Algorithm to find the most bought combinations of items\n",
    "transactions = customer_basket_data.values.tolist()\n",
    "transactions"
   ]
  },
  {
   "cell_type": "code",
   "execution_count": 24,
   "metadata": {},
   "outputs": [
    {
     "data": {
      "text/plain": [
       "[RelationRecord(items=frozenset({'Almond milk,Quinoa,Thai green curry paste,Butter,Frozen kebab,Shower gel'}), support=0.00966183574879227, ordered_statistics=[OrderedStatistic(items_base=frozenset(), items_add=frozenset({'Almond milk,Quinoa,Thai green curry paste,Butter,Frozen kebab,Shower gel'}), confidence=0.00966183574879227, lift=1.0)]),\n",
       " RelationRecord(items=frozenset({'Organic cow milk,Noodles,Tomato ketchup,Ghee,Frozen peas,Sanitary napkins'}), support=0.00966183574879227, ordered_statistics=[OrderedStatistic(items_base=frozenset(), items_add=frozenset({'Organic cow milk,Noodles,Tomato ketchup,Ghee,Frozen peas,Sanitary napkins'}), confidence=0.00966183574879227, lift=1.0)]),\n",
       " RelationRecord(items=frozenset({'Organic cow milk,Soya chunks,Tomato ketchup,Cold pressed Peanut oil,Frozen peas,Razor'}), support=0.00966183574879227, ordered_statistics=[OrderedStatistic(items_base=frozenset(), items_add=frozenset({'Organic cow milk,Soya chunks,Tomato ketchup,Cold pressed Peanut oil,Frozen peas,Razor'}), confidence=0.00966183574879227, lift=1.0)]),\n",
       " RelationRecord(items=frozenset({'Organic cow milk,Soya chunks,Tomato ketchup,Ghee,Frozen peas,Razor'}), support=0.00966183574879227, ordered_statistics=[OrderedStatistic(items_base=frozenset(), items_add=frozenset({'Organic cow milk,Soya chunks,Tomato ketchup,Ghee,Frozen peas,Razor'}), confidence=0.00966183574879227, lift=1.0)]),\n",
       " RelationRecord(items=frozenset({'cheese,Pasta,Pasta sauce,Butter,Frozen corn,Perfume'}), support=0.00966183574879227, ordered_statistics=[OrderedStatistic(items_base=frozenset(), items_add=frozenset({'cheese,Pasta,Pasta sauce,Butter,Frozen corn,Perfume'}), confidence=0.00966183574879227, lift=1.0)]),\n",
       " RelationRecord(items=frozenset({'milk cream,Pasta,Pasta sauce,Butter,Frozen corn,Wet wipe'}), support=0.00966183574879227, ordered_statistics=[OrderedStatistic(items_base=frozenset(), items_add=frozenset({'milk cream,Pasta,Pasta sauce,Butter,Frozen corn,Wet wipe'}), confidence=0.00966183574879227, lift=1.0)]),\n",
       " RelationRecord(items=frozenset({'paneer,Pasta,Mayonnaise,Butter,Frozen kebab,Hand lotion'}), support=0.00966183574879227, ordered_statistics=[OrderedStatistic(items_base=frozenset(), items_add=frozenset({'paneer,Pasta,Mayonnaise,Butter,Frozen kebab,Hand lotion'}), confidence=0.00966183574879227, lift=1.0)]),\n",
       " RelationRecord(items=frozenset({'paneer,Soya chunks,Tomato ketchup,Ghee,Frozen peas,Hairbrush'}), support=0.00966183574879227, ordered_statistics=[OrderedStatistic(items_base=frozenset(), items_add=frozenset({'paneer,Soya chunks,Tomato ketchup,Ghee,Frozen peas,Hairbrush'}), confidence=0.00966183574879227, lift=1.0)])]"
      ]
     },
     "execution_count": 24,
     "metadata": {},
     "output_type": "execute_result"
    }
   ],
   "source": [
    "rules= apriori(transactions= transactions, min_support=0.009, \n",
    "               min_confidence = 0.009, min_lift=1, min_length=2, max_length=3) \n",
    "\n",
    "results = list(rules)\n",
    "results"
   ]
  },
  {
   "cell_type": "code",
   "execution_count": 25,
   "metadata": {},
   "outputs": [],
   "source": [
    "# Now extracting supports, confidences and lifts for corresponding items \n",
    "items = [tuple(result[2][0][1])[0] for result in results]\n",
    "supports    = [result[1] for result in results]\n",
    "confidences = [result[2][0][2] for result in results]\n",
    "lifts       = [result[2][0][3] for result in results]"
   ]
  },
  {
   "cell_type": "code",
   "execution_count": 26,
   "metadata": {},
   "outputs": [],
   "source": [
    "# making a df out of the extracted parameters \n",
    "popular_basket = pd.DataFrame(list(zip(items, supports, confidences, lifts)), columns=[\"item_basket\", \n",
    "                                                                       \"supports\", \"confidences\", \"lifts\"])"
   ]
  },
  {
   "cell_type": "code",
   "execution_count": 27,
   "metadata": {},
   "outputs": [
    {
     "data": {
      "text/html": [
       "<div>\n",
       "<style scoped>\n",
       "    .dataframe tbody tr th:only-of-type {\n",
       "        vertical-align: middle;\n",
       "    }\n",
       "\n",
       "    .dataframe tbody tr th {\n",
       "        vertical-align: top;\n",
       "    }\n",
       "\n",
       "    .dataframe thead th {\n",
       "        text-align: right;\n",
       "    }\n",
       "</style>\n",
       "<table border=\"1\" class=\"dataframe\">\n",
       "  <thead>\n",
       "    <tr style=\"text-align: right;\">\n",
       "      <th></th>\n",
       "      <th>item_basket</th>\n",
       "      <th>supports</th>\n",
       "      <th>confidences</th>\n",
       "      <th>lifts</th>\n",
       "    </tr>\n",
       "  </thead>\n",
       "  <tbody>\n",
       "    <tr>\n",
       "      <th>0</th>\n",
       "      <td>Almond milk,Quinoa,Thai green curry paste,Butt...</td>\n",
       "      <td>0.009662</td>\n",
       "      <td>0.009662</td>\n",
       "      <td>1.0</td>\n",
       "    </tr>\n",
       "    <tr>\n",
       "      <th>1</th>\n",
       "      <td>Organic cow milk,Noodles,Tomato ketchup,Ghee,F...</td>\n",
       "      <td>0.009662</td>\n",
       "      <td>0.009662</td>\n",
       "      <td>1.0</td>\n",
       "    </tr>\n",
       "    <tr>\n",
       "      <th>2</th>\n",
       "      <td>Organic cow milk,Soya chunks,Tomato ketchup,Co...</td>\n",
       "      <td>0.009662</td>\n",
       "      <td>0.009662</td>\n",
       "      <td>1.0</td>\n",
       "    </tr>\n",
       "    <tr>\n",
       "      <th>3</th>\n",
       "      <td>Organic cow milk,Soya chunks,Tomato ketchup,Gh...</td>\n",
       "      <td>0.009662</td>\n",
       "      <td>0.009662</td>\n",
       "      <td>1.0</td>\n",
       "    </tr>\n",
       "    <tr>\n",
       "      <th>4</th>\n",
       "      <td>cheese,Pasta,Pasta sauce,Butter,Frozen corn,Pe...</td>\n",
       "      <td>0.009662</td>\n",
       "      <td>0.009662</td>\n",
       "      <td>1.0</td>\n",
       "    </tr>\n",
       "    <tr>\n",
       "      <th>5</th>\n",
       "      <td>milk cream,Pasta,Pasta sauce,Butter,Frozen cor...</td>\n",
       "      <td>0.009662</td>\n",
       "      <td>0.009662</td>\n",
       "      <td>1.0</td>\n",
       "    </tr>\n",
       "    <tr>\n",
       "      <th>6</th>\n",
       "      <td>paneer,Pasta,Mayonnaise,Butter,Frozen kebab,Ha...</td>\n",
       "      <td>0.009662</td>\n",
       "      <td>0.009662</td>\n",
       "      <td>1.0</td>\n",
       "    </tr>\n",
       "    <tr>\n",
       "      <th>7</th>\n",
       "      <td>paneer,Soya chunks,Tomato ketchup,Ghee,Frozen ...</td>\n",
       "      <td>0.009662</td>\n",
       "      <td>0.009662</td>\n",
       "      <td>1.0</td>\n",
       "    </tr>\n",
       "  </tbody>\n",
       "</table>\n",
       "</div>"
      ],
      "text/plain": [
       "                                         item_basket  supports  confidences  \\\n",
       "0  Almond milk,Quinoa,Thai green curry paste,Butt...  0.009662     0.009662   \n",
       "1  Organic cow milk,Noodles,Tomato ketchup,Ghee,F...  0.009662     0.009662   \n",
       "2  Organic cow milk,Soya chunks,Tomato ketchup,Co...  0.009662     0.009662   \n",
       "3  Organic cow milk,Soya chunks,Tomato ketchup,Gh...  0.009662     0.009662   \n",
       "4  cheese,Pasta,Pasta sauce,Butter,Frozen corn,Pe...  0.009662     0.009662   \n",
       "5  milk cream,Pasta,Pasta sauce,Butter,Frozen cor...  0.009662     0.009662   \n",
       "6  paneer,Pasta,Mayonnaise,Butter,Frozen kebab,Ha...  0.009662     0.009662   \n",
       "7  paneer,Soya chunks,Tomato ketchup,Ghee,Frozen ...  0.009662     0.009662   \n",
       "\n",
       "   lifts  \n",
       "0    1.0  \n",
       "1    1.0  \n",
       "2    1.0  \n",
       "3    1.0  \n",
       "4    1.0  \n",
       "5    1.0  \n",
       "6    1.0  \n",
       "7    1.0  "
      ]
     },
     "execution_count": 27,
     "metadata": {},
     "output_type": "execute_result"
    }
   ],
   "source": [
    "popular_basket"
   ]
  },
  {
   "cell_type": "markdown",
   "metadata": {},
   "source": [
    "#   \n",
    "## Showing the most popular bought combinations of items\n",
    "### Results"
   ]
  },
  {
   "cell_type": "code",
   "execution_count": 28,
   "metadata": {
    "scrolled": false
   },
   "outputs": [
    {
     "name": "stdout",
     "output_type": "stream",
     "text": [
      "Almond milk,Quinoa,Thai green curry paste,Butter,Frozen kebab,Shower gel\n",
      "\n",
      "Organic cow milk,Noodles,Tomato ketchup,Ghee,Frozen peas,Sanitary napkins\n",
      "\n",
      "Organic cow milk,Soya chunks,Tomato ketchup,Cold pressed Peanut oil,Frozen peas,Razor\n",
      "\n",
      "Organic cow milk,Soya chunks,Tomato ketchup,Ghee,Frozen peas,Razor\n",
      "\n",
      "cheese,Pasta,Pasta sauce,Butter,Frozen corn,Perfume\n",
      "\n",
      "milk cream,Pasta,Pasta sauce,Butter,Frozen corn,Wet wipe\n",
      "\n",
      "paneer,Pasta,Mayonnaise,Butter,Frozen kebab,Hand lotion\n",
      "\n",
      "paneer,Soya chunks,Tomato ketchup,Ghee,Frozen peas,Hairbrush\n",
      "\n"
     ]
    }
   ],
   "source": [
    "for i in range(0, len(popular_basket.item_basket)):\n",
    "    print(f\"{popular_basket.item_basket[i]}\\n\")"
   ]
  },
  {
   "cell_type": "markdown",
   "metadata": {},
   "source": [
    "###    \n",
    "## From the insights drawn above we can say that  \n",
    "- Almond milk, Organic cow milk, cheese, milk cream, paneer\n",
    "- Quinoa, Noodles, Soya chunks, Pasta\n",
    "- Thai green curry paste, Tomato ketchup, Pasta sauce, Mayonnaise\n",
    "- Butter, Ghee, Cold pressed Peanut oil\n",
    "- Frozen kebab, Frozen peas, Frozen corn\n",
    "- Shower gel, Sanitary napkins, Razor, Perfume, Wet wipe, Hand loion, Hairbrush\n",
    "\n",
    "Are the most popular items in their respective categories for the most common item baskets in the response."
   ]
  },
  {
   "cell_type": "markdown",
   "metadata": {},
   "source": [
    "# Time to visualize\n",
    "### Looking at items with \"hue\" made to \"State\" makes no sense here as the statewise response is quite biased and hence will give us no correct insights"
   ]
  },
  {
   "cell_type": "markdown",
   "metadata": {},
   "source": [
    "### But \"hue\" set to \"Gender\" can help us to some extent to understand the  gender preferences for varies product categories."
   ]
  },
  {
   "cell_type": "markdown",
   "metadata": {},
   "source": [
    "#### We can do the following to know that (But remember that there is a difference of 21 as males are more than females)"
   ]
  },
  {
   "cell_type": "code",
   "execution_count": 29,
   "metadata": {
    "scrolled": false
   },
   "outputs": [
    {
     "data": {
      "image/png": "[encoded data removed]",
      "text/plain": [
       "<Figure size 747.625x360 with 1 Axes>"
      ]
     },
     "metadata": {
      "needs_background": "light"
     },
     "output_type": "display_data"
    },
    {
     "data": {
      "image/png": "[encoded data removed]",
      "text/plain": [
       "<Figure size 747.625x360 with 1 Axes>"
      ]
     },
     "metadata": {
      "needs_background": "light"
     },
     "output_type": "display_data"
    },
    {
     "data": {
      "image/png": "[encoded data removed]",
      "text/plain": [
       "<Figure size 747.625x360 with 1 Axes>"
      ]
     },
     "metadata": {
      "needs_background": "light"
     },
     "output_type": "display_data"
    },
    {
     "data": {
      "image/png": "[encoded data removed]",
      "text/plain": [
       "<Figure size 747.625x360 with 1 Axes>"
      ]
     },
     "metadata": {
      "needs_background": "light"
     },
     "output_type": "display_data"
    },
    {
     "data": {
      "image/png": "[encoded data removed]",
      "text/plain": [
       "<Figure size 747.625x360 with 1 Axes>"
      ]
     },
     "metadata": {
      "needs_background": "light"
     },
     "output_type": "display_data"
    },
    {
     "data": {
      "image/png": "[encoded data removed]",
      "text/plain": [
       "<Figure size 747.625x360 with 1 Axes>"
      ]
     },
     "metadata": {
      "needs_background": "light"
     },
     "output_type": "display_data"
    }
   ],
   "source": [
    "cat_cols = ['Milk / Non-Dairy milk', 'Pasta, Noodles, Breakfast and Snack ',\n",
    "       'Sauces / Masala /Paste', 'Oil/ Fats', 'Frozen Food ', 'Personal Care']\n",
    "\n",
    "for cat in cat_cols:\n",
    "    sns.catplot(x=cat, data=customer_data, kind='count', palette=\"bone\", hue=\"Gender\", height=5, aspect=15/8)"
   ]
  },
  {
   "cell_type": "markdown",
   "metadata": {},
   "source": [
    "## Now let's visualize the general popularity of products in each category.."
   ]
  },
  {
   "cell_type": "code",
   "execution_count": 30,
   "metadata": {
    "scrolled": false
   },
   "outputs": [
    {
     "data": {
      "image/png": "[encoded data removed]",
      "text/plain": [
       "<Figure size 675x360 with 1 Axes>"
      ]
     },
     "metadata": {
      "needs_background": "light"
     },
     "output_type": "display_data"
    },
    {
     "data": {
      "image/png": "[encoded data removed]",
      "text/plain": [
       "<Figure size 675x360 with 1 Axes>"
      ]
     },
     "metadata": {
      "needs_background": "light"
     },
     "output_type": "display_data"
    },
    {
     "data": {
      "image/png": "[encoded data removed]",
      "text/plain": [
       "<Figure size 675x360 with 1 Axes>"
      ]
     },
     "metadata": {
      "needs_background": "light"
     },
     "output_type": "display_data"
    },
    {
     "data": {
      "image/png": "[encoded data removed]",
      "text/plain": [
       "<Figure size 675x360 with 1 Axes>"
      ]
     },
     "metadata": {
      "needs_background": "light"
     },
     "output_type": "display_data"
    },
    {
     "data": {
      "image/png": "[encoded data removed]",
      "text/plain": [
       "<Figure size 675x360 with 1 Axes>"
      ]
     },
     "metadata": {
      "needs_background": "light"
     },
     "output_type": "display_data"
    },
    {
     "data": {
      "image/png": "[encoded data removed]",
      "text/plain": [
       "<Figure size 675x360 with 1 Axes>"
      ]
     },
     "metadata": {
      "needs_background": "light"
     },
     "output_type": "display_data"
    }
   ],
   "source": [
    "for cat in cat_cols:\n",
    "    sns.catplot(x=cat, data=customer_data, kind='count', palette=\"plasma\", height=5, aspect=15/8)"
   ]
  },
  {
   "cell_type": "markdown",
   "metadata": {},
   "source": [
    "## From the visualization done above we can say that \n",
    "- Organic Cow Milk is most popular in 'Milk / Non-Dairy milk' category\n",
    "- Pasta is most popular in 'Pasta, Noodles, Breakfast and Snack ' category\n",
    "- Tomato ketchup is most popular in 'Sauces / Masala /Paste' category\n",
    "- Butter is most popular in 'Oil/Fats' category\n",
    "- Frozen kebab is most popular in 'Frozen Food' category\n",
    "- Razor is most popular in 'Personal Care' category"
   ]
  },
  {
   "cell_type": "code",
   "execution_count": null,
   "metadata": {},
   "outputs": [],
   "source": []
  }
 ],
 "metadata": {
  "kernelspec": {
   "display_name": "Python 3",
   "language": "python",
   "name": "python3"
  },
  "language_info": {
   "codemirror_mode": {
    "name": "ipython",
    "version": 3
   },
   "file_extension": ".py",
   "mimetype": "text/x-python",
   "name": "python",
   "nbconvert_exporter": "python",
   "pygments_lexer": "ipython3",
   "version": "3.7.6"
  }
 },
 "nbformat": 4,
 "nbformat_minor": 4
}
